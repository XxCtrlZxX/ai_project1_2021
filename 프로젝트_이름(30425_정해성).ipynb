{
  "nbformat": 4,
  "nbformat_minor": 0,
  "metadata": {
    "kernelspec": {
      "display_name": "Python 3",
      "language": "python",
      "name": "python3"
    },
    "language_info": {
      "codemirror_mode": {
        "name": "ipython",
        "version": 3
      },
      "file_extension": ".py",
      "mimetype": "text/x-python",
      "name": "python",
      "nbconvert_exporter": "python",
      "pygments_lexer": "ipython3",
      "version": "3.7.6"
    },
    "colab": {
      "name": "프로젝트 이름(30425 정해성).ipynb",
      "provenance": [],
      "collapsed_sections": []
    }
  },
  "cells": [
    {
      "cell_type": "markdown",
      "metadata": {
        "id": "LtJd_nFa4f9F"
      },
      "source": [
        "# 프로젝트 이름\n",
        "- 학번 : 30425\n",
        "- 이름 : 정해성\n",
        "\n",
        "## 1. 주제\n",
        "- 질문\n",
        "\n",
        "## 2. 데이터 수집\n",
        "- 데이터 수집 방법 : \n",
        "- 데이터 수집 사이트 : https://www.kaggle.com/ajaypalsinghlo/world-happiness-report-2021"
      ]
    },
    {
      "cell_type": "code",
      "metadata": {
        "id": "-0HeAu9O4f9K"
      },
      "source": [
        "# 데이터 가져오기"
      ],
      "execution_count": null,
      "outputs": []
    },
    {
      "cell_type": "markdown",
      "metadata": {
        "id": "8IdhNk2O4f9K"
      },
      "source": [
        "## 3. 탐색적 데이터 분석 과정\n",
        "\n",
        "#### 표를 활용하여 분석하기"
      ]
    },
    {
      "cell_type": "code",
      "metadata": {
        "id": "_jIngW9I4f9L"
      },
      "source": [
        "# pandas 활용"
      ],
      "execution_count": null,
      "outputs": []
    },
    {
      "cell_type": "markdown",
      "metadata": {
        "id": "CTQVtrbq4f9M"
      },
      "source": [
        "#### 그래프를 활용하여 분석하기"
      ]
    },
    {
      "cell_type": "code",
      "metadata": {
        "id": "qGCDXL474f9M"
      },
      "source": [
        "# matplotlib, seaborn 등 활용"
      ],
      "execution_count": null,
      "outputs": []
    },
    {
      "cell_type": "markdown",
      "metadata": {
        "id": "rCLLHlok4f9M"
      },
      "source": [
        "## 4. 결론\n",
        "- 질문에 대한 답"
      ]
    }
  ]
}