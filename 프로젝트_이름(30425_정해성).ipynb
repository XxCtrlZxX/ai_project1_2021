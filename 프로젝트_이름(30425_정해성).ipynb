{
 "cells": [
  {
   "cell_type": "markdown",
   "metadata": {
    "id": "LtJd_nFa4f9F"
   },
   "source": [
    "# 프로젝트 이름\n",
    "- 학번 : 30425\n",
    "- 이름 : 정해성\n",
    "\n",
    "## 1. 주제\n",
    "- 행복지수가 높은 국가들의 공통점은 무엇일까?\n",
    "- 행복지수가 높다는 것은 무엇을 의미하는 걸까?\n",
    "- 행복지수와 가장 관련이 높은 요소는 무엇일까?\n",
    "\n",
    "## 2. 데이터 수집\n",
    "- 데이터 수집 방법 : csv파일 다운로드\n",
    "- 데이터 수집 사이트 : https://www.kaggle.com/ajaypalsinghlo/world-happiness-report-2021\n",
    "\n",
    "참고 : https://blog.naver.com/hanbam0/120198351504"
   ]
  },
  {
   "cell_type": "code",
   "execution_count": null,
   "metadata": {
    "id": "-0HeAu9O4f9K"
   },
   "outputs": [],
   "source": [
    "# 데이터 가져오기"
   ]
  },
  {
   "cell_type": "markdown",
   "metadata": {
    "id": "8IdhNk2O4f9K"
   },
   "source": [
    "## 3. 탐색적 데이터 분석 과정\n",
    "\n",
    "#### 표를 활용하여 분석하기"
   ]
  },
  {
   "cell_type": "code",
   "execution_count": null,
   "metadata": {
    "id": "_jIngW9I4f9L"
   },
   "outputs": [],
   "source": [
    "# pandas 활용"
   ]
  },
  {
   "cell_type": "markdown",
   "metadata": {
    "id": "CTQVtrbq4f9M"
   },
   "source": [
    "#### 그래프를 활용하여 분석하기"
   ]
  },
  {
   "cell_type": "code",
   "execution_count": null,
   "metadata": {
    "id": "qGCDXL474f9M"
   },
   "outputs": [],
   "source": [
    "# matplotlib, seaborn 등 활용"
   ]
  },
  {
   "cell_type": "markdown",
   "metadata": {
    "id": "rCLLHlok4f9M"
   },
   "source": [
    "## 4. 결론\n",
    "- 질문에 대한 답"
   ]
  }
 ],
 "metadata": {
  "colab": {
   "collapsed_sections": [],
   "name": "프로젝트 이름(30425 정해성).ipynb",
   "provenance": []
  },
  "kernelspec": {
   "display_name": "Python 3",
   "language": "python",
   "name": "python3"
  },
  "language_info": {
   "codemirror_mode": {
    "name": "ipython",
    "version": 3
   },
   "file_extension": ".py",
   "mimetype": "text/x-python",
   "name": "python",
   "nbconvert_exporter": "python",
   "pygments_lexer": "ipython3",
   "version": "3.6.5"
  }
 },
 "nbformat": 4,
 "nbformat_minor": 1
}
