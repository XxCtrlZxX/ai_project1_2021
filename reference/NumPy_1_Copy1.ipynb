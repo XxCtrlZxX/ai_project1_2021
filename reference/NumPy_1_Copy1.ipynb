{
  "nbformat": 4,
  "nbformat_minor": 0,
  "metadata": {
    "kernelspec": {
      "display_name": "Python 3",
      "language": "python",
      "name": "python3"
    },
    "language_info": {
      "codemirror_mode": {
        "name": "ipython",
        "version": 3
      },
      "file_extension": ".py",
      "mimetype": "text/x-python",
      "name": "python",
      "nbconvert_exporter": "python",
      "pygments_lexer": "ipython3",
      "version": "3.6.5"
    },
    "colab": {
      "name": "NumPy-1-Copy1.ipynb",
      "provenance": []
    }
  },
  "cells": [
    {
      "cell_type": "markdown",
      "metadata": {
        "id": "0qUwZwv17mRw"
      },
      "source": [
        "## 넘파이\n",
        "- NumPy(Numerical Python) : 파이썬에서 선형대수 기반의 프로그램을 쉽게 만들 수 있도록 지원하는 패키지\n",
        "- 정수나 실수와 같은 수치 데이터의 계산을 위해 사용한다.\n",
        "\n",
        "#### 중요성\n",
        "- 많은 머신러닝 알고리즘이 넘파이 기반으로 작성돼 있다.\n",
        "- 알고리즘의 입출력 데이터를 넘파이 배열 타입으로 사용한다.\n",
        "- 판다스를 이해하는 데 많은 도움이 된다."
      ]
    },
    {
      "cell_type": "markdown",
      "metadata": {
        "id": "CnvIC2sp7mR1"
      },
      "source": [
        "### ndarray 개요\n",
        "- 넘파이의 기반 데이터 타입\n",
        "- 넘파이에서 다차원(Multi-demension) 배열을 쉽게 생성하고 다양한 연산을 수행한다."
      ]
    },
    {
      "cell_type": "code",
      "metadata": {
        "id": "Z2iMosOk7mR2"
      },
      "source": [
        "#넘파이 모듈 임포트\n",
        "import numpy as np # alias"
      ],
      "execution_count": null,
      "outputs": []
    },
    {
      "cell_type": "markdown",
      "metadata": {
        "id": "EJpMWYEv7mR3"
      },
      "source": [
        "- array() 함수 : 파이썬의 리스트와 같은 다양한 인자를 입력 받아 ndarray로 변환한다.\n",
        "- ndarray 배열의 shape 변수 : ndarray의 크기, 즉 행과 열의 수를 튜플 형태로 가지고 있다. 이를 통해 배열의 차원까지 알 수 있다."
      ]
    },
    {
      "cell_type": "code",
      "metadata": {
        "id": "CNOc7OIo7mR3",
        "outputId": "faecf5f5-333f-4b9c-adb4-a82b2d9615c1"
      },
      "source": [
        "array1 = np.array([1, 2, 3])\n",
        "print('array1 type:', type(array1))\n",
        "print('array1 array 형태', array1.shape) #1차원 array로 3개의 데이터를 가지고 있다."
      ],
      "execution_count": null,
      "outputs": [
        {
          "output_type": "stream",
          "text": [
            "array1 type: <class 'numpy.ndarray'>\n",
            "array1 array 형태 (3,)\n"
          ],
          "name": "stdout"
        }
      ]
    },
    {
      "cell_type": "code",
      "metadata": {
        "id": "6haaj7yr7mR4",
        "outputId": "993a2195-0891-479f-e1e2-8e202d1c8b87"
      },
      "source": [
        "array2 = np.array([[1, 2, 3], [2, 3, 4]])\n",
        "print('array2 type:', type(array2))\n",
        "print('array2 array 형태', array2.shape) #2차원 array로 2개의 로우와 3개의 칼럼으로 구성되어 있다."
      ],
      "execution_count": null,
      "outputs": [
        {
          "output_type": "stream",
          "text": [
            "array2 type: <class 'numpy.ndarray'>\n",
            "array2 array 형태 (2, 3)\n"
          ],
          "name": "stdout"
        }
      ]
    },
    {
      "cell_type": "code",
      "metadata": {
        "id": "w1JR5n2h7mR5",
        "outputId": "326891fa-329c-4ac5-9d1c-2c312e84d197"
      },
      "source": [
        "array3 = np.array([[1, 2, 3]])\n",
        "print('array3 type:', type(array3))\n",
        "print('array3 array 형태', array3.shape) #2차원 array로 1개의 로우와 3개의 칼럼으로 구성되어 있다."
      ],
      "execution_count": null,
      "outputs": [
        {
          "output_type": "stream",
          "text": [
            "array3 type: <class 'numpy.ndarray'>\n",
            "array3 array 형태 (1, 3)\n"
          ],
          "name": "stdout"
        }
      ]
    },
    {
      "cell_type": "markdown",
      "metadata": {
        "id": "7VbtXDrK7mR6"
      },
      "source": [
        "- array1과 array3은 동일한 데이터 수를 가지고 있지만, array1은 명확하게 1차원임을 (3,)형태로 표현한 것이다."
      ]
    },
    {
      "cell_type": "code",
      "metadata": {
        "scrolled": true,
        "id": "svIgdDfr7mR7",
        "outputId": "994335aa-cb3b-442f-9124-b8d5d3a3d44b"
      },
      "source": [
        "print('array1: {:0}차원, array2: {:1}차원, array3: {:2}차원'.format(array1.ndim, array2.ndim, array3.ndim))"
      ],
      "execution_count": null,
      "outputs": [
        {
          "output_type": "stream",
          "text": [
            "array1: 1차원, array2: 2차원, array3:  2차원\n"
          ],
          "name": "stdout"
        }
      ]
    },
    {
      "cell_type": "markdown",
      "metadata": {
        "id": "oCPMTfLj7mR7"
      },
      "source": [
        "- ndarray 배열의 ndim 변수 : ndarray의 차원\n",
        "- 리스트 []는 1차원, 리스트의 리스트 [[]]는 2차원"
      ]
    },
    {
      "cell_type": "markdown",
      "metadata": {
        "id": "C-b1zAjr7mR7"
      },
      "source": [
        "### ndarray의 데이터 타입\n",
        "- 숫자, 문자열, 불 값 등이 모두 가능하다.\n",
        "- 숫자형의 경우 int, unsigned int, float형을 제공한다.\n",
        "- 더 큰 숫자 값이나 정밀도를 위해 complex 타입을 제공한다."
      ]
    },
    {
      "cell_type": "code",
      "metadata": {
        "id": "p1NnFcC-7mR8",
        "outputId": "f8829718-75cd-41a2-90fb-43a5c7096678"
      },
      "source": [
        "list1 = [1,2,3]\n",
        "array1 = np.array(list1)\n",
        "print(array1, array1.dtype)"
      ],
      "execution_count": null,
      "outputs": [
        {
          "output_type": "stream",
          "text": [
            "[1 2 3] int32\n"
          ],
          "name": "stdout"
        }
      ]
    },
    {
      "cell_type": "markdown",
      "metadata": {
        "id": "64Ow7r-j7mR9"
      },
      "source": [
        "- ndarray내의 데이터 타입은 dtype 속성으로 확인한다."
      ]
    },
    {
      "cell_type": "code",
      "metadata": {
        "id": "wUsiwRZ47mR9",
        "outputId": "94126eee-b1d0-4235-fe10-2582234cd849"
      },
      "source": [
        "array_int = np.array([1, 2, 3])\n",
        "array_float = array_int.astype('float64')\n",
        "print(array_float, array_float.dtype)"
      ],
      "execution_count": null,
      "outputs": [
        {
          "output_type": "stream",
          "text": [
            "[1. 2. 3.] float64\n"
          ],
          "name": "stdout"
        }
      ]
    },
    {
      "cell_type": "markdown",
      "metadata": {
        "id": "EOwzK0zb7mR-"
      },
      "source": [
        "- astype() 메서드 : ndarray 내 데이터값의 타입 변경. 인자로 원하는 타입을 문자열로 지정한다."
      ]
    },
    {
      "cell_type": "code",
      "metadata": {
        "id": "C5rDUMhc7mR_",
        "outputId": "0eb53689-6ee1-4b2d-f899-dc07c80997ef"
      },
      "source": [
        "array_float1 = np.array([1.1, 2.1, 3.1])\n",
        "array_int1 = array_float1.astype('int64')\n",
        "print(array_int1, array_int1.dtype)"
      ],
      "execution_count": null,
      "outputs": [
        {
          "output_type": "stream",
          "text": [
            "[1 2 3] int64\n"
          ],
          "name": "stdout"
        }
      ]
    },
    {
      "cell_type": "markdown",
      "metadata": {
        "id": "fXoRAzF07mR_"
      },
      "source": [
        "- float를 int형으로 변경할 때 소수점 이하는 당연히 모두 없어진다."
      ]
    },
    {
      "cell_type": "markdown",
      "metadata": {
        "id": "nNiK8sgR7mSA"
      },
      "source": [
        "### ndarray를 편리하게 생성하기 - arange, zeros, ones\n",
        "- 특정 크기와 차원을 가진 ndarray를 연속값이나 0또는 1로 초기화해 생성할 수 있다.\n",
        "- 주로 테스트용 데이터를 만들거나 대규모의 데이터를 일괄적으로 초기화해야 할 경우 사용한다."
      ]
    },
    {
      "cell_type": "markdown",
      "metadata": {
        "id": "safxh3Pg7mSA"
      },
      "source": [
        "- arange() 함수 : 파이썬 표준 함수 range()와 유사한 기능을 한다. 0부터 함수 인자 값-1까지의 값을 순차적으로 ndarray의 데이터값으로 변환한다."
      ]
    },
    {
      "cell_type": "code",
      "metadata": {
        "id": "V5wgAjnD7mSA",
        "outputId": "b9828ae4-3ec4-4ae9-8dac-501e165c3aed"
      },
      "source": [
        "sequence_array = np.arange(10)\n",
        "print(sequence_array)\n",
        "print(sequence_array.shape, sequence_array.dtype) #1차원 ndarray를 만든다."
      ],
      "execution_count": null,
      "outputs": [
        {
          "output_type": "stream",
          "text": [
            "[0 1 2 3 4 5 6 7 8 9]\n",
            "(10,) int32\n"
          ],
          "name": "stdout"
        }
      ]
    },
    {
      "cell_type": "markdown",
      "metadata": {
        "id": "03c8Je4u7mSA"
      },
      "source": [
        "- zeros() 함수 : 함수 인자로 튜플 형태의 shape 값을 입력하면 모든 값을 0으로 채운 해당 shape를 가진 ndarray를 반환한다.\n",
        "- ones() 함수 : 함수 인자로 튜플 형태의 shape 값을 입력하면 모든 값을 1로 채운 해당 shape를 가진 ndarray를 반환한다."
      ]
    },
    {
      "cell_type": "code",
      "metadata": {
        "id": "wKZVpmTe7mSB",
        "outputId": "0859264d-47cd-4095-b740-b034c64acf0d"
      },
      "source": [
        "zero_array = np.zeros((3, 2), dtype='int64')\n",
        "print(zero_array)\n",
        "print(zero_array.shape, zero_array.dtype)"
      ],
      "execution_count": null,
      "outputs": [
        {
          "output_type": "stream",
          "text": [
            "[[0 0]\n",
            " [0 0]\n",
            " [0 0]]\n",
            "(3, 2) int64\n"
          ],
          "name": "stdout"
        }
      ]
    },
    {
      "cell_type": "code",
      "metadata": {
        "id": "3AH3pm5-7mSB",
        "outputId": "fe95c172-3478-41e8-d604-4fab57de4a16"
      },
      "source": [
        "one_array = np.ones((3, 2))\n",
        "print(one_array)\n",
        "print(one_array.shape, one_array.dtype)"
      ],
      "execution_count": null,
      "outputs": [
        {
          "output_type": "stream",
          "text": [
            "[[1. 1.]\n",
            " [1. 1.]\n",
            " [1. 1.]]\n",
            "(3, 2) float64\n"
          ],
          "name": "stdout"
        }
      ]
    },
    {
      "cell_type": "markdown",
      "metadata": {
        "id": "MId_0Jf37mSB"
      },
      "source": [
        "- 함수 인자로 dtype을 정해주지 않으면 default로 float64형의 데이터로 ndarray를 채운다."
      ]
    },
    {
      "cell_type": "markdown",
      "metadata": {
        "id": "vi7noOhL7mSB"
      },
      "source": [
        "### ndarray의 차원과 크기를 변경하는 reshape()\n",
        "- reshape() 메서드 : ndarray를 특정 차원 및 크기로 변환한다.\n",
        "- 변환을 원하는 크기를 함수 인자로 부여한다."
      ]
    },
    {
      "cell_type": "code",
      "metadata": {
        "id": "MCbXuvD27mSC",
        "outputId": "63808fed-6363-4a24-84a6-0c44181ec9bd"
      },
      "source": [
        "#0~9까지의 1차원 ndarray를 2*5 형태로 변환\n",
        "array1 = np.arange(10)\n",
        "print('array1:\\n', array1)"
      ],
      "execution_count": null,
      "outputs": [
        {
          "output_type": "stream",
          "text": [
            "array1:\n",
            " [0 1 2 3 4 5 6 7 8 9]\n"
          ],
          "name": "stdout"
        }
      ]
    },
    {
      "cell_type": "code",
      "metadata": {
        "id": "lJEHMNtj7mSC",
        "outputId": "99c38e3f-c17d-4f3f-8b0f-c14c21c54914"
      },
      "source": [
        "array2 = array1.reshape(2, 5)\n",
        "print('array2:\\n', array2)"
      ],
      "execution_count": null,
      "outputs": [
        {
          "output_type": "stream",
          "text": [
            "array2:\n",
            " [[0 1 2 3 4]\n",
            " [5 6 7 8 9]]\n"
          ],
          "name": "stdout"
        }
      ]
    },
    {
      "cell_type": "code",
      "metadata": {
        "id": "F4SuVGxt7mSC",
        "outputId": "2dec5d34-7884-4134-dbd5-6ce58071daef"
      },
      "source": [
        "array3 = array1.reshape(5, 2)\n",
        "print('array3:\\n', array3)"
      ],
      "execution_count": null,
      "outputs": [
        {
          "output_type": "stream",
          "text": [
            "array3:\n",
            " [[0 1]\n",
            " [2 3]\n",
            " [4 5]\n",
            " [6 7]\n",
            " [8 9]]\n"
          ],
          "name": "stdout"
        }
      ]
    },
    {
      "cell_type": "code",
      "metadata": {
        "id": "RKCjzxcX7mSD"
      },
      "source": [
        "#array1.reshape(4,3)"
      ],
      "execution_count": null,
      "outputs": []
    },
    {
      "cell_type": "markdown",
      "metadata": {
        "id": "WU2jK3wk7mSD"
      },
      "source": [
        "- reshape()는 지정된 사이즈로 변경이 불가능하면 오류를 발생한다."
      ]
    },
    {
      "cell_type": "code",
      "metadata": {
        "id": "8ZKFCj8u7mSE",
        "outputId": "57cd87c4-3dbd-47c5-bb99-2d9181ba9094"
      },
      "source": [
        "array1 = np.arange(10)\n",
        "print(array1)\n",
        "\n",
        "array2 = array1.reshape(-1, 5)\n",
        "print('array2 shape:', array2.shape)\n",
        "\n",
        "array3 = array1.reshape(5, -1)\n",
        "print('array3 shape:', array3.shape)"
      ],
      "execution_count": null,
      "outputs": [
        {
          "output_type": "stream",
          "text": [
            "[0 1 2 3 4 5 6 7 8 9]\n",
            "array2 shape: (2, 5)\n",
            "array3 shape: (5, 2)\n"
          ],
          "name": "stdout"
        }
      ]
    },
    {
      "cell_type": "markdown",
      "metadata": {
        "id": "zTUSO6cB7mSE"
      },
      "source": [
        "- 인자로 -1을 사용하면 원래 ndarray와 호환되는 새로운 shape로 변환한다."
      ]
    },
    {
      "cell_type": "code",
      "metadata": {
        "id": "f-8eqqq17mSE"
      },
      "source": [
        "#array4 = array1.reshape(-1,4)"
      ],
      "execution_count": null,
      "outputs": []
    },
    {
      "cell_type": "markdown",
      "metadata": {
        "id": "4Ctg39CF7mSF"
      },
      "source": [
        "- 호환될 수 없는 형태는 -1을 사용하더라도 변환할 수 없다."
      ]
    },
    {
      "cell_type": "code",
      "metadata": {
        "id": "B67XHay17mSF",
        "outputId": "b9fe2ca4-04ff-4388-9087-417a2910c35d"
      },
      "source": [
        "#1차원 ndarray를 3차원 ndarray로 변환\n",
        "array1 = np.arange(8)\n",
        "array3d = array1.reshape(2, 2, 2)\n",
        "print('array3d:\\n', array3d.tolist())"
      ],
      "execution_count": null,
      "outputs": [
        {
          "output_type": "stream",
          "text": [
            "array3d:\n",
            " [[[0, 1], [2, 3]], [[4, 5], [6, 7]]]\n"
          ],
          "name": "stdout"
        }
      ]
    },
    {
      "cell_type": "code",
      "metadata": {
        "id": "BtTdwOnH7mSG",
        "outputId": "9635f76c-3734-4c6a-8f07-350f0d6e4efc"
      },
      "source": [
        "#3차원 ndarray를 2차원 ndarray로 변환\n",
        "array5 = array3d.reshape(-1, 1)\n",
        "print('array5:\\n', array5.tolist())"
      ],
      "execution_count": null,
      "outputs": [
        {
          "output_type": "stream",
          "text": [
            "array5:\n",
            " [[0], [1], [2], [3], [4], [5], [6], [7]]\n"
          ],
          "name": "stdout"
        }
      ]
    },
    {
      "cell_type": "code",
      "metadata": {
        "id": "xPebI1JF7mSG",
        "outputId": "9a28f45a-a391-48b9-dc8b-8cdece4d64de"
      },
      "source": [
        "#1차원 ndarray를 2차원 ndarray로 변환\n",
        "array6 = array1.reshape(-1, 1)\n",
        "print('array6:\\n', array6.tolist())"
      ],
      "execution_count": null,
      "outputs": [
        {
          "output_type": "stream",
          "text": [
            "array6:\n",
            " [[0], [1], [2], [3], [4], [5], [6], [7]]\n"
          ],
          "name": "stdout"
        }
      ]
    },
    {
      "cell_type": "markdown",
      "metadata": {
        "id": "YAB2gELr7mSH"
      },
      "source": [
        "- reshape(-1,1)을 이용해 3차원, 1차원을 2차원으로 변경한다.\n",
        "- tolist() 메서드를 이용해 리스트로 자료형을 변환한다."
      ]
    },
    {
      "cell_type": "markdown",
      "metadata": {
        "id": "1oWdmGz_7mSH"
      },
      "source": [
        "### 넘파이의 ndarray의 데이터 세트 선택하기 - 인덱싱(Indexing)\n",
        "1. 특정한 데이터만 추출\n",
        "2. 슬라이싱(Slicing)"
      ]
    },
    {
      "cell_type": "markdown",
      "metadata": {
        "id": "2b5-k-YN7mSH"
      },
      "source": [
        "#### 단일 값 추출\n",
        "- 원하는 위치의 인덱스 값을 지정하면 해당 위치의 데이터가 반환된다."
      ]
    },
    {
      "cell_type": "code",
      "metadata": {
        "id": "TITw5qnc7mSH",
        "outputId": "66e878b8-e9e8-4186-c4fc-97bbdb0790ad"
      },
      "source": [
        "#1부터 9까지의 1차원 ndarray 생성\n",
        "array1 = np.arange(1,10)\n",
        "print('array1:', array1)"
      ],
      "execution_count": null,
      "outputs": [
        {
          "output_type": "stream",
          "text": [
            "array1: [1 2 3 4 5 6 7 8 9]\n"
          ],
          "name": "stdout"
        }
      ]
    },
    {
      "cell_type": "code",
      "metadata": {
        "id": "NKKzBi_B7mSI",
        "outputId": "9abd79a0-86fb-49ff-beb2-d002268778b2"
      },
      "source": [
        "value = array1[2]\n",
        "print('value:', value)"
      ],
      "execution_count": null,
      "outputs": [
        {
          "output_type": "stream",
          "text": [
            "value: 3\n"
          ],
          "name": "stdout"
        }
      ]
    },
    {
      "cell_type": "code",
      "metadata": {
        "id": "EVL435Kw7mSI",
        "outputId": "98333d61-d23d-4cfa-a7f8-3d7facb4ed48"
      },
      "source": [
        "print('맨 뒤의 값:', array1[-1], '맨 뒤에서 두 번째 값:', array1[-2])"
      ],
      "execution_count": null,
      "outputs": [
        {
          "output_type": "stream",
          "text": [
            "맨 뒤의 값: 9 맨 뒤에서 두 번째 값: 8\n"
          ],
          "name": "stdout"
        }
      ]
    },
    {
      "cell_type": "code",
      "metadata": {
        "id": "dTGfC0uW7mSI",
        "outputId": "f79dc844-7e2b-4c04-eed7-af7c60b08768"
      },
      "source": [
        "array1[0] = 9\n",
        "array1[8] = 0\n",
        "print('array1:', array1)"
      ],
      "execution_count": null,
      "outputs": [
        {
          "output_type": "stream",
          "text": [
            "array1: [9 2 3 4 5 6 7 8 0]\n"
          ],
          "name": "stdout"
        }
      ]
    },
    {
      "cell_type": "markdown",
      "metadata": {
        "id": "PRXO7QtR7mSJ"
      },
      "source": [
        "- 단일 인덱스를 이용해 ndarray내의 데이터값을 수정할 수 있다."
      ]
    },
    {
      "cell_type": "code",
      "metadata": {
        "id": "MYioioEg7mSJ",
        "outputId": "8d9849b8-0678-4297-e627-86783fd3b09b"
      },
      "source": [
        "#다차원 ndarray에서 단일 값 추출\n",
        "array1d = np.arange(1,10)\n",
        "array2d = array1d.reshape(3,3)\n",
        "print(array2d)\n",
        "\n",
        "print('(0,0) index 가리키는 값:', array2d[0,0])\n",
        "print('(0,1) index 가리키는 값:', array2d[0,1])\n",
        "print('(1,0) index 가리키는 값:', array2d[1,0])\n",
        "print('(2,2) index 가리키는 값:', array2d[2,2])"
      ],
      "execution_count": null,
      "outputs": [
        {
          "output_type": "stream",
          "text": [
            "[[1 2 3]\n",
            " [4 5 6]\n",
            " [7 8 9]]\n",
            "(0,0) index 가리키는 값: 1\n",
            "(0,1) index 가리키는 값: 2\n",
            "(1,0) index 가리키는 값: 4\n",
            "(2,2) index 가리키는 값: 9\n"
          ],
          "name": "stdout"
        }
      ]
    },
    {
      "cell_type": "markdown",
      "metadata": {
        "id": "LDHuTNBA7mSJ"
      },
      "source": [
        "#### 슬라이싱\n",
        "- 슬라이싱은 연속된 인덱스상의 ndarray를 추출한다."
      ]
    },
    {
      "cell_type": "code",
      "metadata": {
        "scrolled": true,
        "id": "bBljxXpT7mSJ",
        "outputId": "b1c5e27f-dd01-4af3-8bf6-7ab2c573e8fe"
      },
      "source": [
        "array1 = np.arange(1,10)\n",
        "array3 = array1[0:3]\n",
        "print(array3)"
      ],
      "execution_count": null,
      "outputs": [
        {
          "output_type": "stream",
          "text": [
            "[1 2 3]\n"
          ],
          "name": "stdout"
        }
      ]
    },
    {
      "cell_type": "code",
      "metadata": {
        "id": "nMsDuL-e7mSK",
        "outputId": "eca1b644-dd31-479f-82f0-cb2f90e4e7e1"
      },
      "source": [
        "print(type(array3))"
      ],
      "execution_count": null,
      "outputs": [
        {
          "output_type": "stream",
          "text": [
            "<class 'numpy.ndarray'>\n"
          ],
          "name": "stdout"
        }
      ]
    },
    {
      "cell_type": "markdown",
      "metadata": {
        "id": "MP9Oz9Sk7mSK"
      },
      "source": [
        "- 슬라이싱으로 추출된 데이터 세트는 모두 ndarray 타입이다."
      ]
    },
    {
      "cell_type": "code",
      "metadata": {
        "id": "w8fJLpIj7mSK",
        "outputId": "e155a1c6-612b-4063-d017-e5046456d462"
      },
      "source": [
        "array1 = np.arange(1,10)\n",
        "array4 = array1[:3]\n",
        "print(array4)"
      ],
      "execution_count": null,
      "outputs": [
        {
          "output_type": "stream",
          "text": [
            "[1 2 3]\n"
          ],
          "name": "stdout"
        }
      ]
    },
    {
      "cell_type": "code",
      "metadata": {
        "id": "FRCID2p-7mSK",
        "outputId": "bbc2bcd4-1c36-4319-fb66-2b53914d4e46"
      },
      "source": [
        "array5 = array1[3:]\n",
        "print(array5)"
      ],
      "execution_count": null,
      "outputs": [
        {
          "output_type": "stream",
          "text": [
            "[4 5 6 7 8 9]\n"
          ],
          "name": "stdout"
        }
      ]
    },
    {
      "cell_type": "code",
      "metadata": {
        "id": "Lc7eWyCv7mSK",
        "outputId": "9fc925fc-c510-4fef-92fa-81560bb589e8"
      },
      "source": [
        "array6 = array1[:]\n",
        "print(array6)"
      ],
      "execution_count": null,
      "outputs": [
        {
          "output_type": "stream",
          "text": [
            "[1 2 3 4 5 6 7 8 9]\n"
          ],
          "name": "stdout"
        }
      ]
    },
    {
      "cell_type": "code",
      "metadata": {
        "scrolled": false,
        "id": "azIzKr4C7mSL",
        "outputId": "d63713b7-6850-4bc8-d773-257cf73a3784"
      },
      "source": [
        "#2차원 ndarray에서 슬라이싱\n",
        "array1d = np.arange(1,10)\n",
        "array2d = array1d.reshape(3,3)\n",
        "print('array2:\\n',array2d)\n",
        "\n",
        "print('array2d[0:2, 0:2]\\n', array2d[0:2, 0:2])\n",
        "print('array2d[1:3, 0:3]\\n', array2d[1:3, 0:3])\n",
        "print('array2d[1:3, :]\\n', array2d[1:3, :])\n",
        "print('array2d[:, :]\\n', array2d[:, :])\n",
        "print('array2d[:2, 1:]\\n', array2d[:2, 1:])\n",
        "print('array2d[:2, 0:1]\\n', array2d[0:2, 0:1])"
      ],
      "execution_count": null,
      "outputs": [
        {
          "output_type": "stream",
          "text": [
            "array2:\n",
            " [[1 2 3]\n",
            " [4 5 6]\n",
            " [7 8 9]]\n",
            "array2d[0:2, 0:2]\n",
            " [[1 2]\n",
            " [4 5]]\n",
            "array2d[1:3, 0:3]\n",
            " [[4 5 6]\n",
            " [7 8 9]]\n",
            "array2d[1:3, :]\n",
            " [[4 5 6]\n",
            " [7 8 9]]\n",
            "array2d[:, :]\n",
            " [[1 2 3]\n",
            " [4 5 6]\n",
            " [7 8 9]]\n",
            "array2d[:2, 1:]\n",
            " [[2 3]\n",
            " [5 6]]\n",
            "array2d[:2, 0:1]\n",
            " [[1]\n",
            " [4]]\n"
          ],
          "name": "stdout"
        }
      ]
    },
    {
      "cell_type": "code",
      "metadata": {
        "id": "C90QDCWy7mSL",
        "outputId": "83bba3c2-0338-4764-f382-76d6b9ce363d"
      },
      "source": [
        "print('array2d[:2, 0]\\n', array2d[0:2, 0])\n",
        "print('array2d[0, 0:2]\\n', array2d[0, 0:2])\n",
        "print('array2d[0:1, 0:2]\\n', array2d[0:1, 0:2])"
      ],
      "execution_count": null,
      "outputs": [
        {
          "output_type": "stream",
          "text": [
            "array2d[:2, 0]\n",
            " [1 4]\n",
            "array2d[0, 0:2]\n",
            " [1 2]\n",
            "array2d[0:1, 0:2]\n",
            " [[1 2]]\n"
          ],
          "name": "stdout"
        }
      ]
    },
    {
      "cell_type": "markdown",
      "metadata": {
        "id": "30Z4CXgv7mSL"
      },
      "source": [
        "- 로우나 칼럼 축 한쪽에만 슬라이싱을 적용하고, 다른 쪽 축에는 단일 값 인덱스를 적용해도 된다.\n",
        "- 한쪽에만 단일 값 인덱스를 적용하면 1차원 ndarray를 반환한다."
      ]
    },
    {
      "cell_type": "code",
      "metadata": {
        "id": "fUrNClwk7mSL",
        "outputId": "cb007adb-8bfc-4335-f5ab-158ef21e1725"
      },
      "source": [
        "print(array2d[0])\n",
        "print(array2d[1])"
      ],
      "execution_count": null,
      "outputs": [
        {
          "output_type": "stream",
          "text": [
            "[1 2 3]\n",
            "[4 5 6]\n"
          ],
          "name": "stdout"
        }
      ]
    },
    {
      "cell_type": "markdown",
      "metadata": {
        "id": "3qdC03lc7mSL"
      },
      "source": [
        "- 2차원 ndarray에서 뒤에 오는 인덱스를 없애면 1차원 ndarray를 반환한다."
      ]
    }
  ]
}